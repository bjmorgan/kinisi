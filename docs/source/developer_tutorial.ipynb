{
 "cells": [
  {
   "cell_type": "markdown",
   "id": "058b147f",
   "metadata": {},
   "source": [
    "To begin to develop the `kinisi` code, you should clone the git repository and install `kinisi` with the `dev` option in editable mode. \n",
    "\n",
    "```console\n",
    "$ git clone https://github.com/bjmorgan/kinisi.git\n",
    "$ cd kinisi\n",
    "$ pip install -e '.[dev]'\n",
    "```\n",
    "\n",
    "**When developing, please follow this style guide: https://llego.dev/posts/writing-clean-pep-8-compliant-code-better-collaboration/**"
   ]
  },
  {
   "cell_type": "markdown",
   "id": "aadabb8e",
   "metadata": {},
   "source": [
    "Below a brief over view of the kinisi codebase is given to aid the onboarding of new developers."
   ]
  },
  {
   "cell_type": "markdown",
   "id": "0c331029",
   "metadata": {},
   "source": [
    "# DiffusionAnalyzer and JumpDiffusionAnalyzer"
   ]
  },
  {
   "cell_type": "markdown",
   "id": "3799b256",
   "metadata": {},
   "source": [
    "Within `kinisi` the main classes the end user will interact with are [`DiffusionAnalyzer`](https://github.com/kinisi-dev/kinisi/blob/scipp/kinisi/diffusion_analyzer.py#L20), [`JumpDiffusionAnalyzer`](https://github.com/kinisi-dev/kinisi/blob/scipp/kinisi/jump_diffusion_analyzer.py#L20) and [`ConductivityAnalyzer`](https://github.com/kinisi-dev/kinisi/blob/scipp/kinisi/conductivity_analyzer.py#L20)\n",
    "\n",
    "These are typically called with 3 main methods depending on the type of trajectory these are:\n",
    "\n",
    "* [`from_universe`](https://github.com/kinisi-dev/kinisi/blob/scipp/kinisi/diffusion_analyzer.py#L87) - For MDAnalysis Universe\n",
    "* [`from_xdatcar`](https://github.com/kinisi-dev/kinisi/blob/scipp/kinisi/diffusion_analyzer.py#L35) - For Pymatgen Structures\n",
    "* [`from_ase`](https://github.com/kinisi-dev/kinisi/blob/scipp/kinisi/diffusion_analyzer.py) - For ASE objects\n",
    "\n",
    "For instance, [`DiffusionAnalyzer.from_xdatcar`](https://github.com/kinisi-dev/kinisi/blob/scipp/kinisi/diffusion_analyzer.py#L35) can be called via"
   ]
  },
  {
   "cell_type": "code",
   "execution_count": null,
   "id": "30b74559",
   "metadata": {},
   "outputs": [],
   "source": [
    "import numpy as np\n",
    "import matplotlib.pyplot as plt\n",
    "import scipp as sc\n",
    "from pymatgen.io.vasp import Xdatcar\n",
    "from kinisi.analyze import DiffusionAnalyzer\n",
    "rng = np.random.RandomState(42)\n",
    "\n",
    "params = {'specie': 'Li',\n",
    "          'time_step': 2.0 * sc.Unit('fs'),\n",
    "          'step_skip': 50 * sc.Unit('dimensionless'),\n",
    "          }\n",
    "\n",
    "\n",
    "params['dimension']= 'xy'\n",
    "\n",
    "xd = Xdatcar('./example_XDATCAR.gz')\n",
    "diff = DiffusionAnalyzer.from_xdatcar(xd, **params)"
   ]
  },
  {
   "cell_type": "markdown",
   "id": "4331a507",
   "metadata": {},
   "source": [
    "[`DiffusionAnalyzer`](https://github.com/kinisi-dev/kinisi/blob/scipp/kinisi/diffusion_analyzer.py#L20) is a subclass of [`Analyzer`](https://github.com/kinisi-dev/kinisi/blob/scipp/kinisi/analyzer.py#L20) and so upon its initialization `Analyzer` is initialized first, `DiffusionAnalyzer` inherits from the `Analyzer`.\n",
    "\n",
    "```python\n",
    "\n",
    "class DiffusionAnalyzer(Analyzer):\n",
    "\n",
    "```\n",
    "\n",
    "\n",
    "The `from_` class method of the `DiffusionAnalyzer` calls the Analyzer class `_from_` method via a super(), i.e. within [`from_universe`](https://github.com/kinisi-dev/kinisi/blob/scipp/kinisi/diffusion_analyzer.py#L131)\n",
    "\n",
    "```python\n",
    "\n",
    "p = super()._from_universe(trajectory, specie, time_step, step_skip, dtype, dt, dimension, distance_unit,\n",
    "                            specie_indices, masses, progress)\n",
    "\n",
    "```\n",
    "\n",
    "Within the `_from_` methods the respective parser is called for each frame in the trajectory, similarly to above there are 3 parser classes : \n",
    "\n",
    "\n",
    "* [`MDAnalysis_parser`](https://github.com/kinisi-dev/kinisi/blob/scipp/kinisi/analyzer.py#L109) - For MDAnalysis Universe\n",
    "* [`PymatgenParser`](https://github.com/kinisi-dev/kinisi/blob/scipp/kinisi/analyzer.py#L74) - For Pymatgen Structures\n",
    "* [`ASE_parser`](https://github.com/kinisi-dev/kinisi/blob/scipp/kinisi/analyzer.py) - For ASE objects\n",
    "\n",
    "\n",
    "Each respective parser class is a subclass of the full [`Parser`](https://github.com/kinisi-dev/kinisi/blob/scipp/kinisi/parser.py#L34) class. \n",
    "\n",
    "```python \n",
    "\n",
    "class PymatgenParser(Parser):\n",
    "\n",
    "```\n",
    "\n",
    "**The parser indexes the correct molecules and particle coordinates for a timestep.**\n",
    "\n",
    "**The Analyzer calls the parser for all the chosen time steps and calculates displacements.**\n",
    "\n",
    "**The DiffusionAnalyzer then calculates the mean squared displacements (MSD) and variances for each time interval.**\n",
    "\n",
    "A flowchart of the classes and inheritance can be seen below\n",
    "\n"
   ]
  },
  {
   "cell_type": "markdown",
   "id": "525f47c4",
   "metadata": {},
   "source": [
    "![My Diagram](./diffusion_analyzer_flowchart.png)"
   ]
  },
  {
   "cell_type": "markdown",
   "id": "43c158f2",
   "metadata": {},
   "source": [
    "The main output of the `from_` methods is then [`.msd_da`](https://github.com/kinisi-dev/kinisi/blob/scipp/kinisi/diffusion_analyzer.py#L83) which is a [Scipp](https://scipp.github.io/) DataArray containing the MSD, n_samples, time intervals as well as standard deviations, it can be accessed via"
   ]
  },
  {
   "cell_type": "code",
   "execution_count": null,
   "id": "f140663b",
   "metadata": {},
   "outputs": [],
   "source": [
    "diff.msd_da"
   ]
  },
  {
   "cell_type": "markdown",
   "id": "44a0b5dd",
   "metadata": {},
   "source": [
    "# DiffusionAnalyzer.diffusion()"
   ]
  },
  {
   "cell_type": "markdown",
   "id": "e72dfe2c",
   "metadata": {},
   "source": [
    "In order to calculate the diffusion coefficient posterior distribution, the [`.diffusion`](https://github.com/kinisi-dev/kinisi/blob/scipp/kinisi/diffusion_analyzer.py#L136) function is called with a specified `start_dt`"
   ]
  },
  {
   "cell_type": "code",
   "execution_count": null,
   "id": "449d5ab4",
   "metadata": {},
   "outputs": [],
   "source": [
    "start_of_diffusion = 3000 * sc.Unit('fs')\n",
    "diff.diffusion(start_of_diffusion, progress=False, random_state=rng)"
   ]
  },
  {
   "cell_type": "markdown",
   "id": "b9af1ce0",
   "metadata": {},
   "source": [
    "This method initializes the [`Diffusion`](https://github.com/kinisi-dev/kinisi/blob/scipp/kinisi/diffusion.py#L20) class and calls the [`_diffusion`](https://github.com/kinisi-dev/kinisi/blob/scipp/kinisi/diffusion.py#L131) method on the initalized class. \n",
    "\n",
    "Within `_diffusion` the bayesian regression model is produced via MCMC sampling within [`bayesian_regression`](https://github.com/kinisi-dev/kinisi/blob/scipp/kinisi/diffusion.py#L46). \n",
    "\n",
    "This involves the calculation of the full covariance matrix with [`compute_covariance_matrix`](https://github.com/kinisi-dev/kinisi/blob/scipp/kinisi/diffusion.py#L191), matrix conditioning with [`minimum_eigenvalue_method`](https://github.com/kinisi-dev/kinisi/blob/scipp/kinisi/diffusion.py#L257) and then MCMC posterior prediction via the [emcee module](https://emcee.readthedocs.io/en/stable/) and [`posterior_predictive`](https://github.com/kinisi-dev/kinisi/blob/scipp/kinisi/diffusion.py#L209) function.\n",
    "\n",
    "For more information on the bayesian framework used in kinisi, please see the [methodology section](https://kinisi.readthedocs.io/en/latest/methodology.html) of the kinisi documentation.\n",
    "\n",
    "The sampled posterior distribution can then be accessed via the [`.D`](https://github.com/kinisi-dev/kinisi/blob/scipp/kinisi/diffusion.py#L171) property"
   ]
  },
  {
   "cell_type": "code",
   "execution_count": null,
   "id": "62d5d4d3",
   "metadata": {},
   "outputs": [],
   "source": [
    "diff.D"
   ]
  },
  {
   "cell_type": "markdown",
   "id": "d0a2f749",
   "metadata": {},
   "source": [
    "A flowchart of the classes and main calls can be seen below"
   ]
  },
  {
   "cell_type": "markdown",
   "id": "3a2d5911",
   "metadata": {},
   "source": [
    "![My Diagram](./diffusion_flowchart.png)"
   ]
  },
  {
   "cell_type": "markdown",
   "id": "8cf72774",
   "metadata": {},
   "source": [
    "That concludes the brief run down of the kinisi code base, if you would like to get involved with development, please see the issues list on the GitHub repo, or feel free to raise your own or reach out to one of the current developers. \n",
    "\n",
    "Happy developing :) \n"
   ]
  }
 ],
 "metadata": {
  "kernelspec": {
   "display_name": "Fresh",
   "language": "python",
   "name": "python3"
  },
  "language_info": {
   "codemirror_mode": {
    "name": "ipython",
    "version": 3
   },
   "file_extension": ".py",
   "mimetype": "text/x-python",
   "name": "python",
   "nbconvert_exporter": "python",
   "pygments_lexer": "ipython3",
   "version": "3.12.9"
  }
 },
 "nbformat": 4,
 "nbformat_minor": 5
}
